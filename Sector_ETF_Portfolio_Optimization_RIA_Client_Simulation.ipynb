{
  "nbformat": 4,
  "nbformat_minor": 0,
  "metadata": {
    "colab": {
      "provenance": []
    },
    "kernelspec": {
      "name": "python3",
      "display_name": "Python 3"
    },
    "language_info": {
      "name": "python"
    }
  },
  "cells": [
    {
      "cell_type": "markdown",
      "source": [
        "# Sector-Based ETF Portfolio Optimization  \n",
        "### Role: Registered Investment Advisor (RIA)  \n",
        "In this project, I act as a Registered Investment Advisor managing a sector-based ETF portfolio. The objective is to analyze and optimize a 5-ETF portfolio over the period from 01/01/2015 to 12/31/2024, using Python to compute returns, risks, beta, correlation, and optimal weights under constraints.\n",
        "\n",
        "**Tools Used:** pandas, NumPy, matplotlib  \n",
        "**Period Analyzed:** 01/01/2015 – 10/31/2024  \n",
        "**Client Profile:** Conservative, diversification-focused  \n"
      ],
      "metadata": {
        "id": "BbNu678BXQCl"
      }
    },
    {
      "cell_type": "code",
      "source": [
        "!pip install yfinance\n",
        "import yfinance as yf\n",
        "import pandas as pd\n",
        "import numpy as np\n",
        "import matplotlib.pyplot as plt\n",
        "import statsmodels.api as sm\n",
        "from scipy.optimize import minimize\n",
        "\n",
        "# PART-1, Calculating the monthly returns for Equal Weighted Portfolio for the chosen 5 ETF's (PORTFOLIO 1)\n",
        "\n",
        "etfs = ['XLY', 'XLV', 'XLK', 'XLU', 'XLP']\n",
        "start_date = '2015-01-01'\n",
        "end_date = '2024-12-31'\n",
        "\n",
        "price_data = yf.download(etfs, start=start_date, end=end_date, interval='1mo', auto_adjust=False)\n",
        "adj_close_etfs = price_data['Adj Close']\n",
        "adj_close_etfs = adj_close_etfs.fillna(method='ffill')\n",
        "adj_close_etfs.to_csv('etfs_monthly_prices.csv')\n",
        "adj_close_etfs.head()\n",
        "\n",
        "etfs_monthly_prices = pd.read_csv('etfs_monthly_prices.csv', index_col=0, parse_dates=True)\n",
        "monthly_returns_etfs = adj_close_etfs.pct_change().dropna()\n",
        "monthly_returns_etfs.head()\n",
        "\n",
        "weights_port_1 = np.array([0.2] * 5)\n",
        "\n",
        "monthly_returns_port_1 = monthly_returns_etfs.dot(weights_port_1)\n",
        "monthly_returns_port_1.name = ('Portfolio 1 Monthly Returns')\n",
        "monthly_returns_port_1.head().round(3)"
      ],
      "metadata": {
        "colab": {
          "base_uri": "https://localhost:8080/",
          "height": 762
        },
        "id": "9mmBC91UZynb",
        "outputId": "e34f5c2c-b9a5-402d-84cf-f79fe8f58a4d"
      },
      "execution_count": 1,
      "outputs": [
        {
          "output_type": "stream",
          "name": "stdout",
          "text": [
            "Requirement already satisfied: yfinance in /usr/local/lib/python3.11/dist-packages (0.2.65)\n",
            "Requirement already satisfied: pandas>=1.3.0 in /usr/local/lib/python3.11/dist-packages (from yfinance) (2.2.2)\n",
            "Requirement already satisfied: numpy>=1.16.5 in /usr/local/lib/python3.11/dist-packages (from yfinance) (2.0.2)\n",
            "Requirement already satisfied: requests>=2.31 in /usr/local/lib/python3.11/dist-packages (from yfinance) (2.32.3)\n",
            "Requirement already satisfied: multitasking>=0.0.7 in /usr/local/lib/python3.11/dist-packages (from yfinance) (0.0.11)\n",
            "Requirement already satisfied: platformdirs>=2.0.0 in /usr/local/lib/python3.11/dist-packages (from yfinance) (4.3.8)\n",
            "Requirement already satisfied: pytz>=2022.5 in /usr/local/lib/python3.11/dist-packages (from yfinance) (2025.2)\n",
            "Requirement already satisfied: frozendict>=2.3.4 in /usr/local/lib/python3.11/dist-packages (from yfinance) (2.4.6)\n",
            "Requirement already satisfied: peewee>=3.16.2 in /usr/local/lib/python3.11/dist-packages (from yfinance) (3.18.1)\n",
            "Requirement already satisfied: beautifulsoup4>=4.11.1 in /usr/local/lib/python3.11/dist-packages (from yfinance) (4.13.4)\n",
            "Requirement already satisfied: curl_cffi>=0.7 in /usr/local/lib/python3.11/dist-packages (from yfinance) (0.11.4)\n",
            "Requirement already satisfied: protobuf>=3.19.0 in /usr/local/lib/python3.11/dist-packages (from yfinance) (5.29.5)\n",
            "Requirement already satisfied: websockets>=13.0 in /usr/local/lib/python3.11/dist-packages (from yfinance) (15.0.1)\n",
            "Requirement already satisfied: soupsieve>1.2 in /usr/local/lib/python3.11/dist-packages (from beautifulsoup4>=4.11.1->yfinance) (2.7)\n",
            "Requirement already satisfied: typing-extensions>=4.0.0 in /usr/local/lib/python3.11/dist-packages (from beautifulsoup4>=4.11.1->yfinance) (4.14.1)\n",
            "Requirement already satisfied: cffi>=1.12.0 in /usr/local/lib/python3.11/dist-packages (from curl_cffi>=0.7->yfinance) (1.17.1)\n",
            "Requirement already satisfied: certifi>=2024.2.2 in /usr/local/lib/python3.11/dist-packages (from curl_cffi>=0.7->yfinance) (2025.6.15)\n",
            "Requirement already satisfied: python-dateutil>=2.8.2 in /usr/local/lib/python3.11/dist-packages (from pandas>=1.3.0->yfinance) (2.9.0.post0)\n",
            "Requirement already satisfied: tzdata>=2022.7 in /usr/local/lib/python3.11/dist-packages (from pandas>=1.3.0->yfinance) (2025.2)\n",
            "Requirement already satisfied: charset-normalizer<4,>=2 in /usr/local/lib/python3.11/dist-packages (from requests>=2.31->yfinance) (3.4.2)\n",
            "Requirement already satisfied: idna<4,>=2.5 in /usr/local/lib/python3.11/dist-packages (from requests>=2.31->yfinance) (3.10)\n",
            "Requirement already satisfied: urllib3<3,>=1.21.1 in /usr/local/lib/python3.11/dist-packages (from requests>=2.31->yfinance) (2.4.0)\n",
            "Requirement already satisfied: pycparser in /usr/local/lib/python3.11/dist-packages (from cffi>=1.12.0->curl_cffi>=0.7->yfinance) (2.22)\n",
            "Requirement already satisfied: six>=1.5 in /usr/local/lib/python3.11/dist-packages (from python-dateutil>=2.8.2->pandas>=1.3.0->yfinance) (1.17.0)\n"
          ]
        },
        {
          "output_type": "stream",
          "name": "stderr",
          "text": [
            "[*********************100%***********************]  5 of 5 completed\n",
            "/tmp/ipython-input-1-3102836196.py:17: FutureWarning: DataFrame.fillna with 'method' is deprecated and will raise in a future version. Use obj.ffill() or obj.bfill() instead.\n",
            "  adj_close_etfs = adj_close_etfs.fillna(method='ffill')\n"
          ]
        },
        {
          "output_type": "execute_result",
          "data": {
            "text/plain": [
              "Date\n",
              "2015-02-01    0.037\n",
              "2015-03-01   -0.017\n",
              "2015-04-01    0.006\n",
              "2015-05-01    0.018\n",
              "2015-06-01   -0.029\n",
              "Name: Portfolio 1 Monthly Returns, dtype: float64"
            ],
            "text/html": [
              "<div>\n",
              "<style scoped>\n",
              "    .dataframe tbody tr th:only-of-type {\n",
              "        vertical-align: middle;\n",
              "    }\n",
              "\n",
              "    .dataframe tbody tr th {\n",
              "        vertical-align: top;\n",
              "    }\n",
              "\n",
              "    .dataframe thead th {\n",
              "        text-align: right;\n",
              "    }\n",
              "</style>\n",
              "<table border=\"1\" class=\"dataframe\">\n",
              "  <thead>\n",
              "    <tr style=\"text-align: right;\">\n",
              "      <th></th>\n",
              "      <th>Portfolio 1 Monthly Returns</th>\n",
              "    </tr>\n",
              "    <tr>\n",
              "      <th>Date</th>\n",
              "      <th></th>\n",
              "    </tr>\n",
              "  </thead>\n",
              "  <tbody>\n",
              "    <tr>\n",
              "      <th>2015-02-01</th>\n",
              "      <td>0.037</td>\n",
              "    </tr>\n",
              "    <tr>\n",
              "      <th>2015-03-01</th>\n",
              "      <td>-0.017</td>\n",
              "    </tr>\n",
              "    <tr>\n",
              "      <th>2015-04-01</th>\n",
              "      <td>0.006</td>\n",
              "    </tr>\n",
              "    <tr>\n",
              "      <th>2015-05-01</th>\n",
              "      <td>0.018</td>\n",
              "    </tr>\n",
              "    <tr>\n",
              "      <th>2015-06-01</th>\n",
              "      <td>-0.029</td>\n",
              "    </tr>\n",
              "  </tbody>\n",
              "</table>\n",
              "</div><br><label><b>dtype:</b> float64</label>"
            ]
          },
          "metadata": {},
          "execution_count": 1
        }
      ]
    },
    {
      "cell_type": "code",
      "source": [
        "# Calculating Average Monthly Return of PORTFOLIO 1\n",
        "\n",
        "avg_monthly_return_port_1 = monthly_returns_port_1.mean()\n",
        "print('Average Monthly Return of PORTFOLIO 1:', avg_monthly_return_port_1.round(3))"
      ],
      "metadata": {
        "colab": {
          "base_uri": "https://localhost:8080/"
        },
        "id": "WV4eUjHSiYLX",
        "outputId": "4d4c10ea-36e6-48f1-eed8-9cd7337bd021"
      },
      "execution_count": 2,
      "outputs": [
        {
          "output_type": "stream",
          "name": "stdout",
          "text": [
            "Average Monthly Return of PORTFOLIO 1: 0.011\n"
          ]
        }
      ]
    },
    {
      "cell_type": "code",
      "source": [
        "# Calculating the Annualized return of PORTFOLIO 1\n",
        "\n",
        "annualized_return_port_1 = (1+ avg_monthly_return_port_1)**12-1\n",
        "print('Annualized Return of PORTFOLIO 1:', annualized_return_port_1.round(3))"
      ],
      "metadata": {
        "colab": {
          "base_uri": "https://localhost:8080/"
        },
        "id": "jdgjNmjRlunJ",
        "outputId": "60ad82ac-adc1-46fc-809b-fdbfd2c0e76a"
      },
      "execution_count": 3,
      "outputs": [
        {
          "output_type": "stream",
          "name": "stdout",
          "text": [
            "Annualized Return of PORTFOLIO 1: 0.134\n"
          ]
        }
      ]
    },
    {
      "cell_type": "code",
      "source": [
        "# Calculating the Annualized return of S&P 500 and all 5 ETFs during the same period\n",
        "\n",
        "benchmark_1 = ['SPY']\n",
        "start_date = '2015-01-01'\n",
        "end_date = '2024-12-31'\n",
        "\n",
        "price_data = yf.download(benchmark_1, start=start_date, end=end_date, interval='1mo', auto_adjust=False)\n",
        "adj_close_spy = price_data['Adj Close']\n",
        "adj_close_spy = adj_close_spy.fillna(method='ffill')\n",
        "adj_close_spy.head()\n",
        "\n",
        "monthly_returns_spy = adj_close_spy.pct_change().dropna()\n",
        "avg_monthly_return_spy = monthly_returns_spy['SPY'].mean()\n",
        "annualized_return_spy = (1+avg_monthly_return_spy)**12-1\n",
        "\n",
        "avg_monthly_return_etfs = monthly_returns_etfs.mean()\n",
        "annualized_return_etfs = (1+avg_monthly_return_etfs)**12-1\n",
        "\n",
        "annualized_return_etfs_spy = annualized_return_etfs.copy()\n",
        "annualized_return_etfs_spy['SPY'] = annualized_return_spy\n",
        "print('Annualized Return of ETFs, SPY (2015-2024)')\n",
        "print(annualized_return_etfs_spy.sort_values(ascending=False).round(3))\n",
        "\n",
        "# Calculating ETFs (if any) outperforms the S&P 500 during the same period\n",
        "\n",
        "outperformers_etfs_spy = annualized_return_etfs[annualized_return_etfs > annualized_return_spy]\n",
        "print('ETFs that outperformed S&P500')\n",
        "print(outperformers_etfs_spy.round(3))\n",
        "\n",
        "# Plotting the Annualized return of S&P 500 and all 5 ETFs during the same period\n",
        "\n",
        "plt.figure(figsize=(10, 6))\n",
        "annualized_return_etfs_spy.plot(kind='bar', color='skyblue', edgecolor='black')\n",
        "plt.title('Annualized Returns (2015-2024)', fontsize=14)\n",
        "plt.ylabel('Returns', fontsize=12)\n",
        "plt.xlabel('Ticker', fontsize=12)\n",
        "plt.xticks(rotation=45)\n",
        "plt.grid(axis='y', linestyle='--', alpha=0.7)\n",
        "plt.tight_layout()\n",
        "plt.show()"
      ],
      "metadata": {
        "colab": {
          "base_uri": "https://localhost:8080/",
          "height": 915
        },
        "id": "Nke86AhUoVys",
        "outputId": "6f5b780d-3d41-45ab-f149-a4dddd1237b8"
      },
      "execution_count": 4,
      "outputs": [
        {
          "output_type": "stream",
          "name": "stderr",
          "text": [
            "\r[*********************100%***********************]  1 of 1 completed"
          ]
        },
        {
          "output_type": "stream",
          "name": "stdout",
          "text": [
            "Annualized Return of ETFs, SPY (2015-2024)\n",
            "Ticker\n",
            "XLK    0.231\n",
            "XLY    0.160\n",
            "SPY    0.148\n",
            "XLV    0.100\n",
            "XLU    0.094\n",
            "XLP    0.088\n",
            "dtype: float64\n",
            "ETFs that outperformed S&P500\n",
            "Ticker\n",
            "XLK    0.231\n",
            "XLY    0.160\n",
            "dtype: float64\n"
          ]
        },
        {
          "output_type": "stream",
          "name": "stderr",
          "text": [
            "\n",
            "/tmp/ipython-input-4-1176985535.py:9: FutureWarning: DataFrame.fillna with 'method' is deprecated and will raise in a future version. Use obj.ffill() or obj.bfill() instead.\n",
            "  adj_close_spy = adj_close_spy.fillna(method='ffill')\n"
          ]
        },
        {
          "output_type": "display_data",
          "data": {
            "text/plain": [
              "<Figure size 1000x600 with 1 Axes>"
            ],
            "image/png": "[encoded data removed]"
          },
          "metadata": {}
        }
      ]
    },
    {
      "cell_type": "code",
      "source": [
        "# Calculating the Annualized return of NDQ 100, S&P 500 and all 5 ETFs during the same period\n",
        "\n",
        "benchmark_2 = ['QQQM']\n",
        "start_date = '2015-01-01'\n",
        "end_date = '2024-12-31'\n",
        "\n",
        "price_data = yf.download(benchmark_2, start=start_date, end=end_date, interval='1mo', auto_adjust=False)\n",
        "adj_close_ndq = price_data['Adj Close']\n",
        "adj_close_ndq = adj_close_ndq.fillna(method='ffill')\n",
        "adj_close_ndq.head()\n",
        "\n",
        "\n",
        "monthly_returns_ndq = adj_close_ndq.pct_change().dropna()\n",
        "avg_monthly_return_ndq = monthly_returns_ndq['QQQM'].mean()\n",
        "annualized_return_ndq = (1+avg_monthly_return_ndq)**12-1\n",
        "\n",
        "annualized_return_etfs_spy_ndq = annualized_return_etfs.copy()\n",
        "annualized_return_etfs_spy_ndq['SPY'] = annualized_return_spy\n",
        "annualized_return_etfs_spy_ndq['QQQM'] = annualized_return_ndq\n",
        "print('Annualized Return of ETFs, SPY, NDQ (2015-2024)')\n",
        "print(annualized_return_etfs_spy_ndq.sort_values(ascending=False).round(3))\n",
        "\n",
        "# Calculating ETFs (if any) outperforms the NDQ 100 during the same period\n",
        "\n",
        "outperformers_etfs_spy_qqqm = annualized_return_etfs[annualized_return_etfs > annualized_return_ndq]\n",
        "print('ETFs that outperformed NDQ100')\n",
        "print(outperformers_etfs_spy_qqqm.round(3))\n",
        "\n",
        "\n",
        "# Plotting the Annualized return of NDQ 100, S&P 500 and all 5 ETFs during the same period\n",
        "\n",
        "plt.figure(figsize=(10, 6))\n",
        "annualized_return_etfs_spy_ndq.plot(kind='bar', color='skyblue', edgecolor='black')\n",
        "plt.title('Annualized Returns (2015-2024)', fontsize=14)\n",
        "plt.ylabel('Returns', fontsize=12)\n",
        "plt.xlabel('Ticker', fontsize=12)\n",
        "plt.xticks(rotation=45)\n",
        "plt.grid(axis='y', linestyle='--', alpha=0.7)\n",
        "plt.tight_layout()\n",
        "plt.show()"
      ],
      "metadata": {
        "colab": {
          "base_uri": "https://localhost:8080/",
          "height": 915
        },
        "id": "DYAUR6nhhlpm",
        "outputId": "edcc2e7c-4e51-46fd-82c8-7191137b5d13"
      },
      "execution_count": 5,
      "outputs": [
        {
          "output_type": "stream",
          "name": "stderr",
          "text": [
            "\r[*********************100%***********************]  1 of 1 completed"
          ]
        },
        {
          "output_type": "stream",
          "name": "stdout",
          "text": [
            "Annualized Return of ETFs, SPY, NDQ (2015-2024)\n",
            "Ticker\n",
            "XLK     0.231\n",
            "QQQM    0.198\n",
            "XLY     0.160\n",
            "SPY     0.148\n",
            "XLV     0.100\n",
            "XLU     0.094\n",
            "XLP     0.088\n",
            "dtype: float64\n",
            "ETFs that outperformed NDQ100\n",
            "Ticker\n",
            "XLK    0.231\n",
            "dtype: float64\n"
          ]
        },
        {
          "output_type": "stream",
          "name": "stderr",
          "text": [
            "\n",
            "/tmp/ipython-input-5-2194471211.py:9: FutureWarning: DataFrame.fillna with 'method' is deprecated and will raise in a future version. Use obj.ffill() or obj.bfill() instead.\n",
            "  adj_close_ndq = adj_close_ndq.fillna(method='ffill')\n"
          ]
        },
        {
          "output_type": "display_data",
          "data": {
            "text/plain": [
              "<Figure size 1000x600 with 1 Axes>"
            ],
            "image/png": "[encoded data removed]"
          },
          "metadata": {}
        }
      ]
    },
    {
      "cell_type": "code",
      "source": [
        "#\tCalculating the highest risk and the lowest risk ETFS\n",
        "\n",
        "monthly_std_etfs = monthly_returns_etfs.std()\n",
        "annualized_std_etfs = monthly_std_etfs*(12**0.5)\n",
        "highest_risk_etf = annualized_std_etfs.idxmax()\n",
        "lowest_risk_etf = annualized_std_etfs.idxmin()\n",
        "\n",
        "print('Highest Risk ETF:', highest_risk_etf)\n",
        "print('Lowest Risk ETF:', lowest_risk_etf)\n"
      ],
      "metadata": {
        "colab": {
          "base_uri": "https://localhost:8080/"
        },
        "id": "cN7C8oG2me87",
        "outputId": "01282dbc-ae32-471f-d685-6b07fd8119df"
      },
      "execution_count": 6,
      "outputs": [
        {
          "output_type": "stream",
          "name": "stdout",
          "text": [
            "Highest Risk ETF: XLY\n",
            "Lowest Risk ETF: XLP\n"
          ]
        }
      ]
    },
    {
      "cell_type": "code",
      "source": [
        "# Calculating the beta and the correlation of PORTFOLIO 1 to the S&P 500\n",
        "\n",
        "port_1_correlation_with_spy = monthly_returns_port_1.corr(monthly_returns_spy['SPY'])\n",
        "print('Portfolio 1 Correlation with SP500:', port_1_correlation_with_spy.round(3))\n",
        "\n",
        "aligned_data = pd.concat([monthly_returns_port_1, monthly_returns_spy['SPY']], axis=1).dropna()\n",
        "aligned_data.columns = ['Portfolio', 'SPY']\n",
        "x = sm.add_constant(aligned_data['SPY'])\n",
        "y = aligned_data['Portfolio']\n",
        "model = sm.OLS(y, x).fit()\n",
        "\n",
        "beta = model.params['SPY']\n",
        "print('Beta of Portfolio 1 vs S&P500:', beta.round(3))"
      ],
      "metadata": {
        "colab": {
          "base_uri": "https://localhost:8080/"
        },
        "id": "qTZKhZ_doity",
        "outputId": "62a46d38-b048-4661-9011-4c76551aef8e"
      },
      "execution_count": 7,
      "outputs": [
        {
          "output_type": "stream",
          "name": "stdout",
          "text": [
            "Portfolio 1 Correlation with SP500: 0.953\n",
            "Beta of Portfolio 1 vs S&P500: 0.829\n"
          ]
        }
      ]
    },
    {
      "cell_type": "markdown",
      "source": [],
      "metadata": {
        "id": "grZ3TWEkkIcs"
      }
    },
    {
      "cell_type": "code",
      "source": [
        "# Part II, Calculating Portfolio that Maximizes the return (PORTFOLIO 1a)\n",
        "\n",
        "def neg_portfolio_1a_return(weights):\n",
        "  port_1a_max_return = np.dot(weights, avg_monthly_return_etfs)\n",
        "  return -((1+ port_1a_max_return)**12-1)\n",
        "\n",
        "# Ensuring that the weights are greater than or equal to zero in each of the ETFs.\n",
        "\n",
        "constraint_max_return_port_1a = {\n",
        "    'type': 'eq',\n",
        "    'fun': lambda weights: np.sum(weights) - 1\n",
        "    }\n",
        "\n",
        "# Also, ensuring that its well-diversified, not owning more than 35% in a single ETF.\n",
        "\n",
        "bounds = tuple((0, 0.35) for _ in avg_monthly_return_etfs)\n",
        "init_guess = np.array([1/len(avg_monthly_return_etfs)] * len(avg_monthly_return_etfs))\n",
        "opt_result_max_return_port_1a = minimize(\n",
        "    neg_portfolio_1a_return,\n",
        "    init_guess,\n",
        "    method='SLSQP',\n",
        "    bounds=bounds,\n",
        "    constraints=constraint_max_return_port_1a\n",
        "    )\n",
        "\n",
        "# Calculating the new weights that would achieve the objective\n",
        "\n",
        "optimal_weights_port_1a = opt_result_max_return_port_1a.x\n",
        "optimal_weights_max_return_port_1a = pd.Series(optimal_weights_port_1a, index=avg_monthly_return_etfs.index)\n",
        "\n",
        "monthly_returns_port_1a = monthly_returns_etfs.dot(optimal_weights_max_return_port_1a).dropna()\n",
        "\n",
        "print('Portfolio 1a Optimal Weights')\n",
        "print(optimal_weights_max_return_port_1a.round(3))"
      ],
      "metadata": {
        "colab": {
          "base_uri": "https://localhost:8080/"
        },
        "id": "bL7FFVgpyKol",
        "outputId": "5fe2abb5-d490-4b0b-f988-464d8ad2207f"
      },
      "execution_count": 8,
      "outputs": [
        {
          "output_type": "stream",
          "name": "stdout",
          "text": [
            "Portfolio 1a Optimal Weights\n",
            "Ticker\n",
            "XLK    0.35\n",
            "XLP    0.00\n",
            "XLU    0.00\n",
            "XLV    0.30\n",
            "XLY    0.35\n",
            "dtype: float64\n"
          ]
        }
      ]
    },
    {
      "cell_type": "code",
      "source": [
        "# Calculating average monthly return of Portfolio 1a\n",
        "\n",
        "avg_monthly_return_port_1a = np.dot(optimal_weights_max_return_port_1a, avg_monthly_return_etfs)\n",
        "print('Avergae Monthly Return of Portfolio 1a :', avg_monthly_return_port_1a.round(3))"
      ],
      "metadata": {
        "colab": {
          "base_uri": "https://localhost:8080/"
        },
        "id": "o6UBUT7eTO8a",
        "outputId": "de16ff2d-b3e3-418e-d226-152159a6a562"
      },
      "execution_count": 9,
      "outputs": [
        {
          "output_type": "stream",
          "name": "stdout",
          "text": [
            "Avergae Monthly Return of Portfolio 1a : 0.013\n"
          ]
        }
      ]
    },
    {
      "cell_type": "code",
      "source": [
        "# Calculating annualized return of Portfolio 1a\n",
        "\n",
        "annualized_return_port_1a = - opt_result_max_return_port_1a.fun\n",
        "print('Annaulized Return of Portfolio 1a :', annualized_return_port_1a.round(3))"
      ],
      "metadata": {
        "colab": {
          "base_uri": "https://localhost:8080/"
        },
        "id": "nnWpPyp9x2zH",
        "outputId": "4fffb0af-4a11-4539-ffc9-25c8f4f6eaaf"
      },
      "execution_count": 10,
      "outputs": [
        {
          "output_type": "stream",
          "name": "stdout",
          "text": [
            "Annaulized Return of Portfolio 1a : 0.166\n"
          ]
        }
      ]
    },
    {
      "cell_type": "code",
      "source": [
        "# Calculating annualized risk of Portfolio 1a\n",
        "\n",
        "cov_matrix_etfs = monthly_returns_etfs.cov()\n",
        "weights_port_1a = optimal_weights_max_return_port_1a.values\n",
        "monthly_std_port_1a = np.sqrt(np.dot(weights_port_1a.T, np.dot(cov_matrix_etfs, weights_port_1a)))\n",
        "annualized_std_port_1a = monthly_std_port_1a * np.sqrt(12)\n",
        "print('Annualized risk of Portfolio 1a :', annualized_std_port_1a.round(3))"
      ],
      "metadata": {
        "colab": {
          "base_uri": "https://localhost:8080/"
        },
        "id": "Fwp7HKT6Ws7H",
        "outputId": "1e44300b-5d45-431c-b9d4-015a06b5b511"
      },
      "execution_count": 11,
      "outputs": [
        {
          "output_type": "stream",
          "name": "stdout",
          "text": [
            "Annualized risk of Portfolio 1a : 0.165\n"
          ]
        }
      ]
    },
    {
      "cell_type": "code",
      "source": [
        "# Calculating Portfolio that Minimizes the risk (PORTFOLIO 1b)\n",
        "\n",
        "def portfolio_1b_risk(weights):\n",
        "    return np.sqrt(np.dot(weights.T, np.dot(cov_matrix_etfs, weights)))\n",
        "\n",
        "# Ensuring that the weights are greater than or equal to zero in each of the ETFs.\n",
        "\n",
        "constraint_min_risk_port_1b = {\n",
        "    'type': 'eq',\n",
        "    'fun': lambda weights: np.sum(weights) - 1\n",
        "    }\n",
        "\n",
        "# Also, ensuring that its well-diversified, not owning more than 35% in a single ETF.\n",
        "\n",
        "bounds = tuple((0, 0.35) for _ in avg_monthly_return_etfs)\n",
        "init_guess = np.array([1/len(avg_monthly_return_etfs)] * len(avg_monthly_return_etfs))\n",
        "opt_result_min_risk_port_1b = minimize(\n",
        "    portfolio_1b_risk,\n",
        "    init_guess,\n",
        "    method='SLSQP',\n",
        "    bounds=bounds,\n",
        "    constraints=constraint_min_risk_port_1b\n",
        "    )\n",
        "\n",
        "# Calculating the new weights that would achieve the objective\n",
        "\n",
        "optimal_weights_port_1b = opt_result_min_risk_port_1b.x\n",
        "optimal_weights_min_risk_port_1b = pd.Series(optimal_weights_port_1b, index=avg_monthly_return_etfs.index)\n",
        "\n",
        "monthly_returns_port_1b = monthly_returns_etfs.dot(optimal_weights_min_risk_port_1b).dropna()\n",
        "\n",
        "print('Portfolio 1b Optimal Weights')\n",
        "print(optimal_weights_min_risk_port_1b.round(3))"
      ],
      "metadata": {
        "colab": {
          "base_uri": "https://localhost:8080/"
        },
        "id": "4CGspBTzcYb7",
        "outputId": "bddf8ca0-af2e-4763-975f-d5bd41331941"
      },
      "execution_count": 12,
      "outputs": [
        {
          "output_type": "stream",
          "name": "stdout",
          "text": [
            "Portfolio 1b Optimal Weights\n",
            "Ticker\n",
            "XLK    0.034\n",
            "XLP    0.350\n",
            "XLU    0.266\n",
            "XLV    0.350\n",
            "XLY    0.000\n",
            "dtype: float64\n"
          ]
        }
      ]
    },
    {
      "cell_type": "code",
      "source": [
        "# Calculating average monthly return of Portfolio 1b\n",
        "\n",
        "avg_monthly_return_port_1b = np.dot(optimal_weights_min_risk_port_1b, avg_monthly_return_etfs)\n",
        "print('Average Monthly Return of Portfolio 1b :', avg_monthly_return_port_1b.round(3))"
      ],
      "metadata": {
        "colab": {
          "base_uri": "https://localhost:8080/"
        },
        "id": "4uV3R3-Hi9_T",
        "outputId": "d6d367be-c156-4bf6-f842-20b12318d169"
      },
      "execution_count": 13,
      "outputs": [
        {
          "output_type": "stream",
          "name": "stdout",
          "text": [
            "Average Monthly Return of Portfolio 1b : 0.008\n"
          ]
        }
      ]
    },
    {
      "cell_type": "code",
      "source": [
        "# Calculating annualized return of Portfolio 1b\n",
        "\n",
        "annualized_return_port_1b = (1+avg_monthly_return_port_1b)**12-1\n",
        "print('Annualized Return of Portfolio 1b :', annualized_return_port_1b.round(3))"
      ],
      "metadata": {
        "colab": {
          "base_uri": "https://localhost:8080/"
        },
        "id": "ktcOsDuKoMOe",
        "outputId": "ee4ad0a3-0948-4a1a-c6df-f29afdb8853e"
      },
      "execution_count": 14,
      "outputs": [
        {
          "output_type": "stream",
          "name": "stdout",
          "text": [
            "Annualized Return of Portfolio 1b : 0.099\n"
          ]
        }
      ]
    },
    {
      "cell_type": "code",
      "source": [
        "# Calculating annualized risk of Portfolio 1b\n",
        "\n",
        "monthly_std_port_1b = np.sqrt(np.dot(optimal_weights_min_risk_port_1b.T, np.dot(monthly_returns_etfs.cov(), optimal_weights_min_risk_port_1b)))\n",
        "annualized_std_port_1b = monthly_std_port_1b * np.sqrt(12)\n",
        "print('Annualized risk of Portfolio 1b :', annualized_std_port_1b.round(3))"
      ],
      "metadata": {
        "colab": {
          "base_uri": "https://localhost:8080/"
        },
        "id": "-AJytC2wo2EX",
        "outputId": "0100e0a1-e0d7-449d-c940-ef2191615085"
      },
      "execution_count": 15,
      "outputs": [
        {
          "output_type": "stream",
          "name": "stdout",
          "text": [
            "Annualized risk of Portfolio 1b : 0.124\n"
          ]
        }
      ]
    },
    {
      "cell_type": "code",
      "source": [
        "# Part 3,  Calculating the Average Monthly return and Annualized return for Equal Weighted Portfolio for the chosen 5 ETF's + SP500 (PORTFOLIO 2)\n",
        "\n",
        "spy_monthly_prices = adj_close_spy.squeeze()\n",
        "spy_monthly_prices.name = 'SPY'\n",
        "etfs_spy_prices = pd.concat([etfs_monthly_prices, spy_monthly_prices], axis=1)\n",
        "monthly_returns_etfs_spy = etfs_spy_prices.pct_change().dropna()\n",
        "weights_port_2 = np.repeat(1/6, 6)\n",
        "\n",
        "monthly_returns_port_2 = monthly_returns_etfs_spy.dot(weights_port_2).dropna()\n",
        "avg_monthly_return_port_2 = np.dot(weights_port_2, monthly_returns_etfs_spy.mean())\n",
        "annualized_return_port_2 = (1+ avg_monthly_return_port_2)**12-1\n",
        "\n",
        "print('Average Monthly Return of Portfolio 2 :', avg_monthly_return_port_2.round(3))\n",
        "print('Annualized Return of Portfolio 2 :', annualized_return_port_2.round(3))\n",
        "\n",
        "\n"
      ],
      "metadata": {
        "colab": {
          "base_uri": "https://localhost:8080/"
        },
        "id": "urhjnj6unNOw",
        "outputId": "b27db4ab-8073-4e5e-b01b-847486955da8"
      },
      "execution_count": 16,
      "outputs": [
        {
          "output_type": "stream",
          "name": "stdout",
          "text": [
            "Average Monthly Return of Portfolio 2 : 0.011\n",
            "Annualized Return of Portfolio 2 : 0.136\n"
          ]
        }
      ]
    },
    {
      "cell_type": "code",
      "source": [
        "# Calculating annualized risk for Portfolio 2\n",
        "\n",
        "monthly_std_port_2 = np.sqrt(np.dot(weights_port_2.T, np.dot(monthly_returns_etfs_spy.cov(), weights_port_2)))\n",
        "annualized_std_port_2 = monthly_std_port_2 *np.sqrt(12)\n",
        "print('Annualized Risk of Portfolio 2 :', annualized_std_port_2.round(3))"
      ],
      "metadata": {
        "colab": {
          "base_uri": "https://localhost:8080/"
        },
        "id": "ks7kdjc-RbpE",
        "outputId": "318b0158-97c9-4613-cc0c-f854e27a9ca9"
      },
      "execution_count": 17,
      "outputs": [
        {
          "output_type": "stream",
          "name": "stdout",
          "text": [
            "Annualized Risk of Portfolio 2 : 0.139\n"
          ]
        }
      ]
    },
    {
      "cell_type": "code",
      "source": [
        "# Calculating the risk difference between Portfolio 1 and Portfolio 2\n",
        "\n",
        "annualized_std_port_1 = np.sqrt(np.dot(weights_port_1.T, np.dot(monthly_returns_etfs.cov(), weights_port_1))) * np.sqrt(12)\n",
        "print('Annualized Risk of Portfolio 1 :', annualized_std_port_1.round(3))\n",
        "if annualized_std_port_2 > annualized_std_port_1:\n",
        "  print('Risk Increased - Adding SPY introduced more volatility.')\n",
        "elif annualized_std_port_2 < annualized_std_port_1:\n",
        "  print('Risk Decreased - Adding SPY diversified and reduced volatality.')\n",
        "else:\n",
        "  print('Risk Unchanged - SPY didnt impact portfolio variance.')\n",
        "\n",
        "why_explanation = \"\"\"\n",
        "Why?\n",
        "\n",
        "SPY includes large positions in tech, consumer discretionary, and financials,\n",
        "which are already represented in the 5 sector ETFs. Adding SPY increased exposure\n",
        "to overlapping sectors, causing higher overall correlation and portfolio volatility.\n",
        "\"\"\"\n",
        "print(why_explanation)\n"
      ],
      "metadata": {
        "colab": {
          "base_uri": "https://localhost:8080/"
        },
        "id": "7WmuznvIUVtD",
        "outputId": "f5993da2-2a25-4d1b-dc5c-e64f0f6e92b8"
      },
      "execution_count": 18,
      "outputs": [
        {
          "output_type": "stream",
          "name": "stdout",
          "text": [
            "Annualized Risk of Portfolio 1 : 0.136\n",
            "Risk Increased - Adding SPY introduced more volatility.\n",
            "\n",
            "Why?\n",
            "\n",
            "SPY includes large positions in tech, consumer discretionary, and financials,\n",
            "which are already represented in the 5 sector ETFs. Adding SPY increased exposure\n",
            "to overlapping sectors, causing higher overall correlation and portfolio volatility.\n",
            "\n"
          ]
        }
      ]
    },
    {
      "cell_type": "code",
      "source": [
        "# Calculating Portfolio that maximizes return(PORTFOLIO 2a)\n",
        "\n",
        "avg_return_port_2a = monthly_returns_etfs_spy.mean()\n",
        "def neg_portfolio_2a_return(weights):\n",
        "  return -np.dot(weights, avg_return_port_2a)\n",
        "\n",
        "# Ensuring that the weights are greater than or equal to zero in each of the ETFs.\n",
        "\n",
        "constraint_max_return_port_2a = {\n",
        "    'type': 'eq',\n",
        "    'fun': lambda weights: np.sum(weights) - 1\n",
        "    }\n",
        "\n",
        "# Also, ensuring that its well-diversified, not owning more than 35% in a single ETF.\n",
        "\n",
        "num_assets_max = len(avg_return_port_2a)\n",
        "bounds = [(0, 0.35) for _ in range(num_assets_max)]\n",
        "init_guess = np.repeat(1/num_assets_max, num_assets_max)\n",
        "opt_result_max_return_port_2a = minimize(\n",
        "    neg_portfolio_2a_return,\n",
        "    init_guess,\n",
        "    method='SLSQP',\n",
        "    bounds=bounds,\n",
        "    constraints=constraint_max_return_port_2a\n",
        "    )\n",
        "\n",
        "# Calculating the new weights that would achieve the objective\n",
        "\n",
        "optimal_weights_port_2a = opt_result_max_return_port_2a.x\n",
        "optimal_weights_max_return_port_2a = pd.Series(optimal_weights_port_2a, index=monthly_returns_etfs_spy.columns)\n",
        "\n",
        "print('Portfolio 2a Optimal Weights')\n",
        "print(optimal_weights_max_return_port_2a.round(3))\n",
        "\n",
        "# Calculating the Annulized return and risk for the optimized portfolio 2a\n",
        "\n",
        "weights_port_2a = optimal_weights_max_return_port_2a.values\n",
        "monthly_returns_port_2a = monthly_returns_etfs_spy.dot(weights_port_2a)\n",
        "annualized_return_port_2a = (1+ monthly_returns_port_2a.mean())**12-1\n",
        "annualized_std_port_2a = monthly_returns_port_2a.std() * np.sqrt(12)\n",
        "\n",
        "print('Annauliazed Return of Portfolio 2a :', annualized_return_port_2a.round(3))\n",
        "print('Annaulized Risk of Portfolio 2a :', annualized_std_port_2a.round(3))"
      ],
      "metadata": {
        "colab": {
          "base_uri": "https://localhost:8080/"
        },
        "id": "1pxJ9bES4-_o",
        "outputId": "1c92df3e-195d-4606-8a55-5b8bda3c2a81"
      },
      "execution_count": 19,
      "outputs": [
        {
          "output_type": "stream",
          "name": "stdout",
          "text": [
            "Portfolio 2a Optimal Weights\n",
            "XLK    0.35\n",
            "XLP    0.00\n",
            "XLU    0.00\n",
            "XLV    0.00\n",
            "XLY    0.35\n",
            "SPY    0.30\n",
            "dtype: float64\n",
            "Annauliazed Return of Portfolio 2a : 0.181\n",
            "Annaulized Risk of Portfolio 2a : 0.178\n"
          ]
        }
      ]
    },
    {
      "cell_type": "code",
      "source": [
        "# Calculating Portfolio that minimizes risk (PORTFOLIO 2b)\n",
        "\n",
        "cov_matrix_etfs_spy = monthly_returns_etfs_spy.cov()\n",
        "def portfolio_2b_risk(weights):\n",
        "    return np.sqrt(np.dot(weights.T, np.dot(cov_matrix_etfs_spy, weights)))\n",
        "\n",
        "# Ensuring that the weights are greater than or equal to zero in each of the ETFs.\n",
        "\n",
        "constraint_min_risk_port_2b = {\n",
        "    'type': 'eq',\n",
        "    'fun': lambda weights: np.sum(weights) - 1\n",
        "    }\n",
        "\n",
        "# Also, ensuring that its well-diversified, not owning more than 35% in a single ETF.\n",
        "\n",
        "num_assets_min = len(monthly_returns_etfs_spy.columns)\n",
        "bounds = [(0, 0.35) for _ in range(num_assets_min)]\n",
        "init_guess = np.repeat(1/num_assets_min, num_assets_min)\n",
        "opt_result_min_risk_port_2b = minimize(\n",
        "    portfolio_2b_risk,\n",
        "    init_guess,\n",
        "    method='SLSQP',\n",
        "    bounds=bounds,\n",
        "    constraints=constraint_min_risk_port_2b\n",
        "    )\n",
        "\n",
        "# Calculating the  new weights that would achieve the objective\n",
        "\n",
        "optimal_weights_port_2b = opt_result_min_risk_port_2b.x\n",
        "optimal_weights_min_risk_port_2b = pd.Series(optimal_weights_port_2b, index=monthly_returns_etfs_spy.columns)\n",
        "\n",
        "print('Portfolio 2b Optimal Weights')\n",
        "print(optimal_weights_min_risk_port_2b.round(3))\n",
        "\n",
        "# Calculating the Annulized return and risk for the optimized portfolio 2b\n",
        "\n",
        "weights_port_2b = optimal_weights_min_risk_port_2b.values\n",
        "monthly_returns_port_2b = monthly_returns_etfs_spy.dot(weights_port_2b)\n",
        "annualized_return_port_2b = (1+ monthly_returns_port_2b.mean())**12-1\n",
        "annualized_std_port_2b = monthly_returns_port_2b.std() * np.sqrt(12)\n",
        "\n",
        "print('Annauliazed Return of Portfolio 2b :', annualized_return_port_2b.round(3))\n",
        "print('Annaulized Risk of Portfolio 2b :', annualized_std_port_2b.round(3))"
      ],
      "metadata": {
        "colab": {
          "base_uri": "https://localhost:8080/"
        },
        "id": "7bQAwMEk9ZCt",
        "outputId": "167b8c55-729d-44b7-b9d7-49cd9dfc04c2"
      },
      "execution_count": 20,
      "outputs": [
        {
          "output_type": "stream",
          "name": "stdout",
          "text": [
            "Portfolio 2b Optimal Weights\n",
            "XLK    0.004\n",
            "XLP    0.350\n",
            "XLU    0.254\n",
            "XLV    0.350\n",
            "XLY    0.000\n",
            "SPY    0.042\n",
            "dtype: float64\n",
            "Annauliazed Return of Portfolio 2b : 0.097\n",
            "Annaulized Risk of Portfolio 2b : 0.124\n"
          ]
        }
      ]
    },
    {
      "cell_type": "code",
      "source": [
        "#  Calculating Portfolio that maximizes the Sharpe, assuming risk free rate at 2% (PORTFOLIO 2c)\n",
        "\n",
        "risk_free_rate =  0.02\n",
        "\n",
        "def neg_sharpe_ratio_portfolio_2c(weights):\n",
        "  port_2c_returns = np.dot(weights, annualized_return_etfs_spy)\n",
        "  port_2c_std = np.sqrt(np.dot(weights.T, np.dot(cov_matrix_etfs_spy, weights)))\n",
        "  sharpe_ratio_port_2c = (port_2c_returns - risk_free_rate) / port_2c_std\n",
        "  return -sharpe_ratio_port_2c\n",
        "\n",
        "# Ensuring that the weights are greater than or equal to zero in each of the ETFs.\n",
        "\n",
        "constraint_max_sharpe_port_2c = {\n",
        "    'type': 'eq',\n",
        "    'fun': lambda weights: np.sum(weights) - 1\n",
        "    }\n",
        "\n",
        "# Also, ensuring that its well-diversified, not owning more than 35% in a single ETF.\n",
        "\n",
        "bounds = [(0, 0.35) for _ in range(num_assets_max)]\n",
        "init_guess = np.repeat(1/num_assets_max, num_assets_max)\n",
        "opt_result_max_sharpe_port_2c = minimize(\n",
        "    neg_sharpe_ratio_portfolio_2c,\n",
        "    init_guess,\n",
        "    method='SLSQP',\n",
        "    bounds=bounds,\n",
        "    constraints=constraint_max_sharpe_port_2c\n",
        "    )\n",
        "\n",
        "# Calculating the  new weights that would achieve the objective\n",
        "\n",
        "optimal_weights_max_sharpe = opt_result_max_sharpe_port_2c.x\n",
        "optimal_weights_max_sharpe_port_2c = pd.Series(optimal_weights_max_sharpe, index=monthly_returns_etfs_spy.columns)\n",
        "\n",
        "print('Portfolio 2c Optimal Weights')\n",
        "print(optimal_weights_max_sharpe_port_2c.round(3))\n",
        "\n",
        " # Calculating the Annulized return and risk for the optimized portfolio 2c\n",
        "\n",
        "weights_port_2c = optimal_weights_max_sharpe_port_2c.values\n",
        "monthly_returns_port_2c = monthly_returns_etfs_spy.dot(weights_port_2c)\n",
        "annualized_return_port_2c = (1+ monthly_returns_port_2c.mean())**12-1\n",
        "annualized_std_port_2c = monthly_returns_port_2c.std() * np.sqrt(12)\n",
        "\n",
        "print('Annauliazed Return of Portfolio 2c :', annualized_return_port_2c.round(3))\n",
        "print('Annaulized Risk of Portfolio 2c :', annualized_std_port_2c.round(3))"
      ],
      "metadata": {
        "colab": {
          "base_uri": "https://localhost:8080/"
        },
        "id": "xIqVBEGc_OvM",
        "outputId": "6c64c178-9d5b-47ef-8f68-b46039da724f"
      },
      "execution_count": 21,
      "outputs": [
        {
          "output_type": "stream",
          "name": "stdout",
          "text": [
            "Portfolio 2c Optimal Weights\n",
            "XLK    0.350\n",
            "XLP    0.000\n",
            "XLU    0.248\n",
            "XLV    0.052\n",
            "XLY    0.000\n",
            "SPY    0.350\n",
            "dtype: float64\n",
            "Annauliazed Return of Portfolio 2c : 0.16\n",
            "Annaulized Risk of Portfolio 2c : 0.147\n"
          ]
        }
      ]
    },
    {
      "cell_type": "code",
      "source": [
        "# PART 4,  Calculating Sharpe Ratio for Portfolio 1, 1a, 1b assuming risk free rate = 2%\n",
        "\n",
        "Sharpe_ratio_port_1 = (annualized_return_port_1 - risk_free_rate) / annualized_std_port_1\n",
        "Sharpe_ratio_port_1a = (annualized_return_port_1a - risk_free_rate) / annualized_std_port_1a\n",
        "Sharpe_ratio_port_1b = (annualized_return_port_1b - risk_free_rate) / annualized_std_port_1b\n",
        "\n",
        "# Calculating treynor Ratio for Portfolio 1, 1a, 1b assuming risk free rate = 2%\n",
        "\n",
        "Treynor_ratio_port_1 = (annualized_return_port_1 - risk_free_rate) / beta\n",
        "Treynor_ratio_port_1a = (annualized_return_port_1a - risk_free_rate) / beta\n",
        "Treynor_ratio_port_1b = (annualized_return_port_1b - risk_free_rate) / beta\n",
        "\n",
        "# Calculating Information Ratio for Portfolio 1, 1a, 1b assuming risk free rate = 2%\n",
        "\n",
        "active_return_port_1 = annualized_return_port_1 - annualized_return_spy\n",
        "active_return_port_1a = annualized_return_port_1a - annualized_return_spy\n",
        "active_return_port_1b = annualized_return_port_1b - annualized_return_spy\n",
        "\n",
        "active_monthly_return_port_1 = monthly_returns_port_1 - monthly_returns_spy['SPY']\n",
        "active_monthly_return_port_1a = monthly_returns_port_1a - monthly_returns_spy['SPY']\n",
        "active_monthly_return_port_1b = monthly_returns_port_1b - monthly_returns_spy['SPY']\n",
        "\n",
        "tracking_error_port_1 = np.std(active_monthly_return_port_1) * np.sqrt(12)\n",
        "tracking_error_port_1a = np.std(active_monthly_return_port_1a) * np.sqrt(12)\n",
        "tracking_error_port_1b = np.std(active_monthly_return_port_1b) * np.sqrt(12)\n",
        "\n",
        "Information_ratio_port_1 = active_return_port_1 / tracking_error_port_1\n",
        "Information_ratio_port_1a = active_return_port_1a / tracking_error_port_1a\n",
        "Information_ratio_port_1b = active_return_port_1b / tracking_error_port_1b\n",
        "\n",
        "\n",
        "print('Performance Ratios for Portfolio 1')\n",
        "print(f'Sharpe Ratio : {Sharpe_ratio_port_1:.3f} | Treyner Ratio : {Treynor_ratio_port_1:.3f} | Information Ratio: {Information_ratio_port_1:.3f}')\n",
        "\n",
        "print('Performance Ratios for Portfolio 1a')\n",
        "print(f'Sharpe Ratio : {Sharpe_ratio_port_1a:.3f} | Treyner Ratio : {Treynor_ratio_port_1a:.3f} | Information Ratio: {Information_ratio_port_1a:.3f}')\n",
        "\n",
        "print('Performance Ratios for Portfolio 1b')\n",
        "print(f'Sharpe Ratio : {Sharpe_ratio_port_1b:.3f} | Treyner Ratio : {Treynor_ratio_port_1b:.3f} | Information Ratio: {Information_ratio_port_1b:.3f}')"
      ],
      "metadata": {
        "colab": {
          "base_uri": "https://localhost:8080/"
        },
        "id": "KyHbzggVChTH",
        "outputId": "1d8a9d74-00e8-483c-fb08-262e4ef3df61"
      },
      "execution_count": 22,
      "outputs": [
        {
          "output_type": "stream",
          "name": "stdout",
          "text": [
            "Performance Ratios for Portfolio 1\n",
            "Sharpe Ratio : 0.834 | Treyner Ratio : 0.137 | Information Ratio: -0.291\n",
            "Performance Ratios for Portfolio 1a\n",
            "Sharpe Ratio : 0.884 | Treyner Ratio : 0.176 | Information Ratio: 0.440\n",
            "Performance Ratios for Portfolio 1b\n",
            "Sharpe Ratio : 0.634 | Treyner Ratio : 0.095 | Information Ratio: -0.548\n"
          ]
        }
      ]
    },
    {
      "cell_type": "code",
      "source": [
        "# Calculating Downside risk of Portfolio 1, 1a, 1b using 1% Target (MER)\n",
        "\n",
        "Target_return = 0.01 / 12\n",
        "\n",
        "downside_diff_port_1 = np.minimum(monthly_returns_port_1 - Target_return, 0)\n",
        "downside_diff_port_1a = np.minimum(monthly_returns_port_1a - Target_return,0)\n",
        "downside_diff_port_1b = np.minimum(monthly_returns_port_1b - Target_return, 0)\n",
        "\n",
        "downside_std_monthly_port_1 = np.sqrt(np.mean(downside_diff_port_1**2))\n",
        "downside_std_monthly_port_1a = np.sqrt(np.mean(downside_diff_port_1a**2))\n",
        "downside_std_monthly_port_1b = np.sqrt(np.mean(downside_diff_port_1b**2))\n",
        "\n",
        "Annualized_downside_std_port_1 = downside_std_monthly_port_1 * np.sqrt(12)\n",
        "Annualized_downside_std_port_1a = downside_std_monthly_port_1a * np.sqrt(12)\n",
        "Annualized_downside_std_port_1b = downside_std_monthly_port_1b * np.sqrt(12)\n",
        "\n",
        "print('Downside Risk of Portfolio 1 (1% MER as target):', Annualized_downside_std_port_1.round(3))\n",
        "print('Downside Risk of Portfolio 1a (1% MER as target):', Annualized_downside_std_port_1a.round(3))\n",
        "print('Downside Risk of Portfolio 1b (1% MER as target):', Annualized_downside_std_port_1b.round(3))"
      ],
      "metadata": {
        "colab": {
          "base_uri": "https://localhost:8080/"
        },
        "id": "7CMS4jGrI0LG",
        "outputId": "e5cfd06f-78b7-4bc3-bc4f-ebf6e141bd10"
      },
      "execution_count": 23,
      "outputs": [
        {
          "output_type": "stream",
          "name": "stdout",
          "text": [
            "Downside Risk of Portfolio 1 (1% MER as target): 0.084\n",
            "Downside Risk of Portfolio 1a (1% MER as target): 0.099\n",
            "Downside Risk of Portfolio 1b (1% MER as target): 0.078\n"
          ]
        }
      ]
    },
    {
      "cell_type": "code",
      "source": [
        "# PART 5, Calculating Sharpe Ratio for Portfolio 2, 2a, 2b, 2c assuming risk free rate = 2%\n",
        "\n",
        "Sharpe_ratio_port_2 = (annualized_return_port_2 - risk_free_rate) / annualized_std_port_2\n",
        "Sharpe_ratio_port_2a = (annualized_return_port_2a - risk_free_rate) / annualized_std_port_2a\n",
        "Sharpe_ratio_port_2b = (annualized_return_port_2b - risk_free_rate) / annualized_std_port_2b\n",
        "Sharpe_ratio_port_2c = (annualized_return_port_2c - risk_free_rate) / annualized_std_port_2c\n",
        "\n",
        "# Calculating treynor Ratio for Portfolio 2, 2a, 2b, 2c assuming risk free rate = 2%\n",
        "\n",
        "aligned_data_2 = pd.concat([monthly_returns_port_2, monthly_returns_ndq['QQQM']], axis=1).dropna()\n",
        "aligned_data_2.columns = ['Portfolio', 'QQQM']\n",
        "x1 = sm.add_constant(aligned_data_2['QQQM'])\n",
        "y1 = aligned_data_2['Portfolio']\n",
        "model = sm.OLS(y1, x1).fit()\n",
        "\n",
        "beta_2 = model.params['QQQM']\n",
        "print('Beta of Portfolio 2 vs NDQ100:', beta_2.round(3))\n",
        "\n",
        "Treynor_ratio_port_2 = (annualized_return_port_2 - risk_free_rate) / beta_2\n",
        "Treynor_ratio_port_2a = (annualized_return_port_2a - risk_free_rate) / beta_2\n",
        "Treynor_ratio_port_2b = (annualized_return_port_2b - risk_free_rate) / beta_2\n",
        "Treynor_ratio_port_2c = (annualized_return_port_2c - risk_free_rate) / beta_2\n",
        "\n",
        "# Calculating Information Ratio for Portfolio 2, 2a, 2b, 2c assuming risk free rate = 2%\n",
        "\n",
        "active_return_port_2 = annualized_return_port_2 - annualized_return_ndq\n",
        "active_return_port_2a = annualized_return_port_2a - annualized_return_ndq\n",
        "active_return_port_2b = annualized_return_port_2b - annualized_return_ndq\n",
        "active_return_port_2c = annualized_return_port_2c - annualized_return_ndq\n",
        "\n",
        "\n",
        "active_monthly_return_port_2 = monthly_returns_port_2 - monthly_returns_ndq['QQQM']\n",
        "active_monthly_return_port_2a = monthly_returns_port_2a - monthly_returns_ndq['QQQM']\n",
        "active_monthly_return_port_2b = monthly_returns_port_2b - monthly_returns_ndq['QQQM']\n",
        "active_monthly_return_port_2c = monthly_returns_port_2c - monthly_returns_ndq['QQQM']\n",
        "\n",
        "\n",
        "tracking_error_port_2 = np.std(active_monthly_return_port_2) * np.sqrt(12)\n",
        "tracking_error_port_2a = np.std(active_monthly_return_port_2a) * np.sqrt(12)\n",
        "tracking_error_port_2b = np.std(active_monthly_return_port_2b) * np.sqrt(12)\n",
        "tracking_error_port_2c = np.std(active_monthly_return_port_2c) * np.sqrt(12)\n",
        "\n",
        "Information_ratio_port_2 = active_return_port_2 / tracking_error_port_2\n",
        "Information_ratio_port_2a = active_return_port_2a / tracking_error_port_2a\n",
        "Information_ratio_port_2b = active_return_port_2b / tracking_error_port_2b\n",
        "Information_ratio_port_2c = active_return_port_2c / tracking_error_port_2c\n",
        "\n",
        "\n",
        "print('Performance Ratios for Portfolio 2')\n",
        "print(f'Sharpe Ratio : {Sharpe_ratio_port_2:.3f} | Treyner Ratio : {Treynor_ratio_port_2:.3f} | Information Ratio: {Information_ratio_port_2:.3f}')\n",
        "\n",
        "print('Performance Ratios for Portfolio 2a')\n",
        "print(f'Sharpe Ratio : {Sharpe_ratio_port_2a:.3f} | Treyner Ratio : {Treynor_ratio_port_2a:.3f} | Information Ratio: {Information_ratio_port_2a:.3f}')\n",
        "\n",
        "print('Performance Ratios for Portfolio 2b')\n",
        "print(f'Sharpe Ratio : {Sharpe_ratio_port_2b:.3f} | Treyner Ratio : {Treynor_ratio_port_2b:.3f} | Information Ratio: {Information_ratio_port_2b:.3f}')\n",
        "\n",
        "print('Performance Ratios for Portfolio 2b')\n",
        "print(f'Sharpe Ratio : {Sharpe_ratio_port_2c:.3f} | Treyner Ratio : {Treynor_ratio_port_2c:.3f} | Information Ratio: {Information_ratio_port_2c:.3f}')"
      ],
      "metadata": {
        "colab": {
          "base_uri": "https://localhost:8080/"
        },
        "id": "atBYfqhW3X91",
        "outputId": "e98e7c70-8a15-4063-b13b-a5a20346787d"
      },
      "execution_count": 24,
      "outputs": [
        {
          "output_type": "stream",
          "name": "stdout",
          "text": [
            "Beta of Portfolio 2 vs NDQ100: 0.65\n",
            "Performance Ratios for Portfolio 2\n",
            "Sharpe Ratio : 0.837 | Treyner Ratio : 0.178 | Information Ratio: -0.617\n",
            "Performance Ratios for Portfolio 2a\n",
            "Sharpe Ratio : 0.904 | Treyner Ratio : 0.248 | Information Ratio: -0.352\n",
            "Performance Ratios for Portfolio 2b\n",
            "Sharpe Ratio : 0.619 | Treyner Ratio : 0.118 | Information Ratio: -0.612\n",
            "Performance Ratios for Portfolio 2b\n",
            "Sharpe Ratio : 0.951 | Treyner Ratio : 0.216 | Information Ratio: -0.452\n"
          ]
        }
      ]
    },
    {
      "cell_type": "code",
      "source": [
        "# Calculating Downside risk of Portfolio 2, 2a, 2b, 2c using 1% Target (MER)\n",
        "\n",
        "Target_return = 0.01 / 12\n",
        "\n",
        "downside_diff_port_2 = np.minimum(monthly_returns_port_2 - Target_return, 0)\n",
        "downside_diff_port_2a = np.minimum(monthly_returns_port_2a - Target_return,0)\n",
        "downside_diff_port_2b = np.minimum(monthly_returns_port_2b - Target_return, 0)\n",
        "downside_diff_port_2c = np.minimum(monthly_returns_port_2c - Target_return, 0)\n",
        "\n",
        "downside_std_monthly_port_2 = np.sqrt(np.mean(downside_diff_port_2**2))\n",
        "downside_std_monthly_port_2a = np.sqrt(np.mean(downside_diff_port_2a**2))\n",
        "downside_std_monthly_port_2b = np.sqrt(np.mean(downside_diff_port_2b**2))\n",
        "downside_std_monthly_port_2c = np.sqrt(np.mean(downside_diff_port_2c**2))\n",
        "\n",
        "Annualized_downside_std_port_2 = downside_std_monthly_port_2 * np.sqrt(12)\n",
        "Annualized_downside_std_port_2a = downside_std_monthly_port_2a * np.sqrt(12)\n",
        "Annualized_downside_std_port_2b = downside_std_monthly_port_2b * np.sqrt(12)\n",
        "Annualized_downside_std_port_2c = downside_std_monthly_port_2c * np.sqrt(12)\n",
        "\n",
        "print('Downside Risk of Portfolio 2 (1% MER as target):', Annualized_downside_std_port_2.round(3))\n",
        "print('Downside Risk of Portfolio 2a (1% MER as target):', Annualized_downside_std_port_2a.round(3))\n",
        "print('Downside Risk of Portfolio 2b (1% MER as target):', Annualized_downside_std_port_2b.round(3))\n",
        "print('Downside Risk of Portfolio 2c (1% MER as target):', Annualized_downside_std_port_2c.round(3))"
      ],
      "metadata": {
        "colab": {
          "base_uri": "https://localhost:8080/"
        },
        "id": "7qGgDnl46HSM",
        "outputId": "d9fdb93a-ffe3-4347-8e67-8f54dc2225f5"
      },
      "execution_count": 25,
      "outputs": [
        {
          "output_type": "stream",
          "name": "stdout",
          "text": [
            "Downside Risk of Portfolio 2 (1% MER as target): 0.085\n",
            "Downside Risk of Portfolio 2a (1% MER as target): 0.107\n",
            "Downside Risk of Portfolio 2b (1% MER as target): 0.078\n",
            "Downside Risk of Portfolio 2c (1% MER as target): 0.092\n"
          ]
        }
      ]
    },
    {
      "cell_type": "code",
      "source": [
        "# Summarizing all the Portfolio's metrics\n",
        "\n",
        "summary_data = {\n",
        "    'Portfolio':[\n",
        "        'Port 1 (Equal Weighted 5 ETFs)',\n",
        "        'Port 1a (Max Return)',\n",
        "        'Port 1b (Min Risk)',\n",
        "        'Port 2 (Equal Weighted 5 ETFs + SPY)',\n",
        "        'Port 2a (Max Return)',\n",
        "        'Port 2b (Min Return)',\n",
        "        'Port 2c (Max Sharpe Ratio)'\n",
        "    ],\n",
        "    'Annualized Return': [\n",
        "        annualized_return_port_1,\n",
        "        annualized_return_port_1a,\n",
        "        annualized_return_port_1b,\n",
        "        annualized_return_port_2,\n",
        "        annualized_return_port_2a,\n",
        "        annualized_return_port_2b,\n",
        "        annualized_return_port_2c\n",
        "    ],\n",
        "    'Annualized Risk': [\n",
        "        annualized_std_port_1,\n",
        "        annualized_std_port_1a,\n",
        "        annualized_std_port_1b,\n",
        "        annualized_std_port_2,\n",
        "        annualized_std_port_2a,\n",
        "        annualized_std_port_2b,\n",
        "        annualized_std_port_2c\n",
        "    ],\n",
        "    'Sharpe Ratio': [\n",
        "        Sharpe_ratio_port_1,\n",
        "        Sharpe_ratio_port_1a,\n",
        "        Sharpe_ratio_port_1b,\n",
        "        Sharpe_ratio_port_2,\n",
        "        Sharpe_ratio_port_2a,\n",
        "        Sharpe_ratio_port_2b,\n",
        "        Sharpe_ratio_port_2c\n",
        "    ],\n",
        "    'Treynor Ratio': [\n",
        "        Treynor_ratio_port_1,\n",
        "        Treynor_ratio_port_1a,\n",
        "        Treynor_ratio_port_1b,\n",
        "        Treynor_ratio_port_2,\n",
        "        Treynor_ratio_port_2a,\n",
        "        Treynor_ratio_port_2b,\n",
        "        Treynor_ratio_port_2c\n",
        "    ],\n",
        "    'Information Ratio': [\n",
        "        Information_ratio_port_1,\n",
        "        Information_ratio_port_1a,\n",
        "        Information_ratio_port_1b,\n",
        "        Information_ratio_port_2,\n",
        "        Information_ratio_port_2a,\n",
        "        Information_ratio_port_2b,\n",
        "        Information_ratio_port_2c\n",
        "    ],\n",
        "    'Downside Risk':[\n",
        "        Annualized_downside_std_port_1,\n",
        "        Annualized_downside_std_port_1a,\n",
        "        Annualized_downside_std_port_1b,\n",
        "        Annualized_downside_std_port_2,\n",
        "        Annualized_downside_std_port_2a,\n",
        "        Annualized_downside_std_port_2b,\n",
        "        Annualized_downside_std_port_2c\n",
        "    ]\n",
        "}\n",
        "\n",
        "portfolios_summary_df = pd.DataFrame(summary_data)\n",
        "styled_df = portfolios_summary_df.style\\\n",
        "    .highlight_max(subset=['Sharpe Ratio'], color='salmon')\\\n",
        "    .highlight_min(subset=['Downside Risk'], color='green')\n",
        "styled_df"
      ],
      "metadata": {
        "colab": {
          "base_uri": "https://localhost:8080/",
          "height": 269
        },
        "id": "iZCA1QBk-mSR",
        "outputId": "4bb8dd98-0980-4fa0-c346-99a81b64f00f"
      },
      "execution_count": 26,
      "outputs": [
        {
          "output_type": "execute_result",
          "data": {
            "text/plain": [
              "<pandas.io.formats.style.Styler at 0x7d163c6a1990>"
            ],
            "text/html": [
              "<style type=\"text/css\">\n",
              "#T_61f8e_row2_col6 {\n",
              "  background-color: green;\n",
              "}\n",
              "#T_61f8e_row6_col3 {\n",
              "  background-color: salmon;\n",
              "}\n",
              "</style>\n",
              "<table id=\"T_61f8e\" class=\"dataframe\">\n",
              "  <thead>\n",
              "    <tr>\n",
              "      <th class=\"blank level0\" >&nbsp;</th>\n",
              "      <th id=\"T_61f8e_level0_col0\" class=\"col_heading level0 col0\" >Portfolio</th>\n",
              "      <th id=\"T_61f8e_level0_col1\" class=\"col_heading level0 col1\" >Annualized Return</th>\n",
              "      <th id=\"T_61f8e_level0_col2\" class=\"col_heading level0 col2\" >Annualized Risk</th>\n",
              "      <th id=\"T_61f8e_level0_col3\" class=\"col_heading level0 col3\" >Sharpe Ratio</th>\n",
              "      <th id=\"T_61f8e_level0_col4\" class=\"col_heading level0 col4\" >Treynor Ratio</th>\n",
              "      <th id=\"T_61f8e_level0_col5\" class=\"col_heading level0 col5\" >Information Ratio</th>\n",
              "      <th id=\"T_61f8e_level0_col6\" class=\"col_heading level0 col6\" >Downside Risk</th>\n",
              "    </tr>\n",
              "  </thead>\n",
              "  <tbody>\n",
              "    <tr>\n",
              "      <th id=\"T_61f8e_level0_row0\" class=\"row_heading level0 row0\" >0</th>\n",
              "      <td id=\"T_61f8e_row0_col0\" class=\"data row0 col0\" >Port 1 (Equal Weighted 5 ETFs)</td>\n",
              "      <td id=\"T_61f8e_row0_col1\" class=\"data row0 col1\" >0.133673</td>\n",
              "      <td id=\"T_61f8e_row0_col2\" class=\"data row0 col2\" >0.136285</td>\n",
              "      <td id=\"T_61f8e_row0_col3\" class=\"data row0 col3\" >0.834084</td>\n",
              "      <td id=\"T_61f8e_row0_col4\" class=\"data row0 col4\" >0.137115</td>\n",
              "      <td id=\"T_61f8e_row0_col5\" class=\"data row0 col5\" >-0.290612</td>\n",
              "      <td id=\"T_61f8e_row0_col6\" class=\"data row0 col6\" >0.083610</td>\n",
              "    </tr>\n",
              "    <tr>\n",
              "      <th id=\"T_61f8e_level0_row1\" class=\"row_heading level0 row1\" >1</th>\n",
              "      <td id=\"T_61f8e_row1_col0\" class=\"data row1 col0\" >Port 1a (Max Return)</td>\n",
              "      <td id=\"T_61f8e_row1_col1\" class=\"data row1 col1\" >0.166121</td>\n",
              "      <td id=\"T_61f8e_row1_col2\" class=\"data row1 col2\" >0.165293</td>\n",
              "      <td id=\"T_61f8e_row1_col3\" class=\"data row1 col3\" >0.884011</td>\n",
              "      <td id=\"T_61f8e_row1_col4\" class=\"data row1 col4\" >0.176255</td>\n",
              "      <td id=\"T_61f8e_row1_col5\" class=\"data row1 col5\" >0.439553</td>\n",
              "      <td id=\"T_61f8e_row1_col6\" class=\"data row1 col6\" >0.099038</td>\n",
              "    </tr>\n",
              "    <tr>\n",
              "      <th id=\"T_61f8e_level0_row2\" class=\"row_heading level0 row2\" >2</th>\n",
              "      <td id=\"T_61f8e_row2_col0\" class=\"data row2 col0\" >Port 1b (Min Risk)</td>\n",
              "      <td id=\"T_61f8e_row2_col1\" class=\"data row2 col1\" >0.098613</td>\n",
              "      <td id=\"T_61f8e_row2_col2\" class=\"data row2 col2\" >0.124054</td>\n",
              "      <td id=\"T_61f8e_row2_col3\" class=\"data row2 col3\" >0.633700</td>\n",
              "      <td id=\"T_61f8e_row2_col4\" class=\"data row2 col4\" >0.094825</td>\n",
              "      <td id=\"T_61f8e_row2_col5\" class=\"data row2 col5\" >-0.548421</td>\n",
              "      <td id=\"T_61f8e_row2_col6\" class=\"data row2 col6\" >0.078230</td>\n",
              "    </tr>\n",
              "    <tr>\n",
              "      <th id=\"T_61f8e_level0_row3\" class=\"row_heading level0 row3\" >3</th>\n",
              "      <td id=\"T_61f8e_row3_col0\" class=\"data row3 col0\" >Port 2 (Equal Weighted 5 ETFs + SPY)</td>\n",
              "      <td id=\"T_61f8e_row3_col1\" class=\"data row3 col1\" >0.136041</td>\n",
              "      <td id=\"T_61f8e_row3_col2\" class=\"data row3 col2\" >0.138662</td>\n",
              "      <td id=\"T_61f8e_row3_col3\" class=\"data row3 col3\" >0.836863</td>\n",
              "      <td id=\"T_61f8e_row3_col4\" class=\"data row3 col4\" >0.178477</td>\n",
              "      <td id=\"T_61f8e_row3_col5\" class=\"data row3 col5\" >-0.616590</td>\n",
              "      <td id=\"T_61f8e_row3_col6\" class=\"data row3 col6\" >0.085488</td>\n",
              "    </tr>\n",
              "    <tr>\n",
              "      <th id=\"T_61f8e_level0_row4\" class=\"row_heading level0 row4\" >4</th>\n",
              "      <td id=\"T_61f8e_row4_col0\" class=\"data row4 col0\" >Port 2a (Max Return)</td>\n",
              "      <td id=\"T_61f8e_row4_col1\" class=\"data row4 col1\" >0.180995</td>\n",
              "      <td id=\"T_61f8e_row4_col2\" class=\"data row4 col2\" >0.178110</td>\n",
              "      <td id=\"T_61f8e_row4_col3\" class=\"data row4 col3\" >0.903911</td>\n",
              "      <td id=\"T_61f8e_row4_col4\" class=\"data row4 col4\" >0.247619</td>\n",
              "      <td id=\"T_61f8e_row4_col5\" class=\"data row4 col5\" >-0.351988</td>\n",
              "      <td id=\"T_61f8e_row4_col6\" class=\"data row4 col6\" >0.106997</td>\n",
              "    </tr>\n",
              "    <tr>\n",
              "      <th id=\"T_61f8e_level0_row5\" class=\"row_heading level0 row5\" >5</th>\n",
              "      <td id=\"T_61f8e_row5_col0\" class=\"data row5 col0\" >Port 2b (Min Return)</td>\n",
              "      <td id=\"T_61f8e_row5_col1\" class=\"data row5 col1\" >0.096880</td>\n",
              "      <td id=\"T_61f8e_row5_col2\" class=\"data row5 col2\" >0.124116</td>\n",
              "      <td id=\"T_61f8e_row5_col3\" class=\"data row5 col3\" >0.619418</td>\n",
              "      <td id=\"T_61f8e_row5_col4\" class=\"data row5 col4\" >0.118245</td>\n",
              "      <td id=\"T_61f8e_row5_col5\" class=\"data row5 col5\" >-0.612346</td>\n",
              "      <td id=\"T_61f8e_row5_col6\" class=\"data row5 col6\" >0.078396</td>\n",
              "    </tr>\n",
              "    <tr>\n",
              "      <th id=\"T_61f8e_level0_row6\" class=\"row_heading level0 row6\" >6</th>\n",
              "      <td id=\"T_61f8e_row6_col0\" class=\"data row6 col0\" >Port 2c (Max Sharpe Ratio)</td>\n",
              "      <td id=\"T_61f8e_row6_col1\" class=\"data row6 col1\" >0.160175</td>\n",
              "      <td id=\"T_61f8e_row6_col2\" class=\"data row6 col2\" >0.147370</td>\n",
              "      <td id=\"T_61f8e_row6_col3\" class=\"data row6 col3\" >0.951180</td>\n",
              "      <td id=\"T_61f8e_row6_col4\" class=\"data row6 col4\" >0.215596</td>\n",
              "      <td id=\"T_61f8e_row6_col5\" class=\"data row6 col5\" >-0.452306</td>\n",
              "      <td id=\"T_61f8e_row6_col6\" class=\"data row6 col6\" >0.091874</td>\n",
              "    </tr>\n",
              "  </tbody>\n",
              "</table>\n"
            ]
          },
          "metadata": {},
          "execution_count": 26
        }
      ]
    },
    {
      "cell_type": "markdown",
      "source": [
        "##  Final Summary — For a Conservative, Diversification-Focused Client\n",
        "\n",
        "###  Insights:\n",
        "- **Port 2c (Max Sharpe Ratio)** is the most balanced portfolio: strong returns (16.0%), the **highest Sharpe Ratio (0.951)**, and moderate downside risk (0.0919).\n",
        "- It includes SPY, enhancing **broad market diversification**, while still favoring core sector ETFs.\n",
        "- **Port 2a (Max Return)** is too aggressive for this client (high risk, high downside).\n",
        "- **Port 1b (Min Risk)** is ultra-conservative, but gives up too much return and efficiency.\n",
        "\n",
        "### 📈 RIA Recommendation:\n",
        "> As a Registered Investment Advisor, I recommend **Port 2c** as the optimal strategy. It offers strong risk-adjusted returns while honoring the client’s preference for diversification and downside protection. This portfolio is built for long-term stability and peace of mind.\n",
        "\n",
        "---\n",
        "\n",
        "\n",
        "\n"
      ],
      "metadata": {
        "id": "kd4ccN6V-d_K"
      }
    },
    {
      "cell_type": "markdown",
      "source": [],
      "metadata": {
        "id": "ZbpfxeA2-dzA"
      }
    }
  ]
}